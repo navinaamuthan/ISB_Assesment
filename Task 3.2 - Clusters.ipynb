{
 "cells": [
  {
   "cell_type": "code",
   "execution_count": 125,
   "metadata": {},
   "outputs": [],
   "source": [
    "import pandas as pd\n",
    "from sklearn.feature_extraction.text import TfidfVectorizer\n",
    "from sklearn.cluster import AgglomerativeClustering"
   ]
  },
  {
   "cell_type": "code",
   "execution_count": 126,
   "metadata": {},
   "outputs": [],
   "source": [
    "# Load the dataset\n",
    "data = pd.read_csv('Company Descriptions.csv')\n",
    "\n",
    "# Extract the company descriptions\n",
    "descriptions = data['company_short_description'].tolist()\n"
   ]
  },
  {
   "cell_type": "code",
   "execution_count": 127,
   "metadata": {},
   "outputs": [],
   "source": [
    "# Initialize the TF-IDF vectorizer\n",
    "tfidf_vectorizer = TfidfVectorizer(max_features=5000, stop_words='english')\n",
    "\n",
    "# Transform the descriptions into TF-IDF vectors\n",
    "tfidf_matrix = tfidf_vectorizer.fit_transform(descriptions)"
   ]
  },
  {
   "cell_type": "code",
   "execution_count": 128,
   "metadata": {},
   "outputs": [
    {
     "name": "stdout",
     "output_type": "stream",
     "text": [
      "TF-IDF matrix shape: (19965, 5000)\n"
     ]
    }
   ],
   "source": [
    "# Print the shape of the TF-IDF matrix for debugging\n",
    "print(\"TF-IDF matrix shape:\", tfidf_matrix.shape)"
   ]
  },
  {
   "cell_type": "code",
   "execution_count": 130,
   "metadata": {},
   "outputs": [],
   "source": [
    "# Initialize the Agglomerative Clustering algorithm\n",
    "num_clusters = 5\n",
    "agg_clustering = AgglomerativeClustering(n_clusters=num_clusters)"
   ]
  },
  {
   "cell_type": "code",
   "execution_count": 131,
   "metadata": {},
   "outputs": [
    {
     "name": "stdout",
     "output_type": "stream",
     "text": [
      "0    12935\n",
      "2     3243\n",
      "4     2372\n",
      "1     1028\n",
      "3      387\n",
      "Name: cluster_label, dtype: int64\n"
     ]
    }
   ],
   "source": [
    "try:\n",
    "    # Perform Agglomerative Clustering on the TF-IDF matrix\n",
    "    cluster_labels = agg_clustering.fit_predict(tfidf_matrix.toarray())\n",
    "    \n",
    "    # Add the cluster labels to the DataFrame\n",
    "    data['cluster_label'] = cluster_labels\n",
    "    \n",
    "    # Print the distribution of clusters\n",
    "    print(data['cluster_label'].value_counts())\n",
    "    \n",
    "    # Save the clustered data to a new CSV file\n",
    "    data.to_csv('Agglomerative_Clustered_Company_Descriptions.csv', index=False)\n",
    "except Exception as e:\n",
    "    print(\"Error:\", e)"
   ]
  },
  {
   "cell_type": "code",
   "execution_count": null,
   "metadata": {},
   "outputs": [],
   "source": []
  }
 ],
 "metadata": {
  "kernelspec": {
   "display_name": "base",
   "language": "python",
   "name": "python3"
  },
  "language_info": {
   "codemirror_mode": {
    "name": "ipython",
    "version": 3
   },
   "file_extension": ".py",
   "mimetype": "text/x-python",
   "name": "python",
   "nbconvert_exporter": "python",
   "pygments_lexer": "ipython3",
   "version": "3.8.5"
  },
  "orig_nbformat": 4
 },
 "nbformat": 4,
 "nbformat_minor": 2
}
