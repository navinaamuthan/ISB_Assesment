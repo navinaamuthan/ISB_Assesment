{
 "cells": [
  {
   "cell_type": "code",
   "execution_count": 2,
   "metadata": {},
   "outputs": [],
   "source": [
    "import pandas as pd\n",
    "\n",
    "# Load data\n",
    "company_df = pd.read_csv('Company Descriptions.csv')\n",
    "industry_df = pd.read_csv('Industry Segments - Top 10 Keywords.csv')\n"
   ]
  },
  {
   "cell_type": "code",
   "execution_count": 5,
   "metadata": {},
   "outputs": [],
   "source": [
    "import re\n",
    "from nltk.corpus import stopwords\n",
    "from nltk.tokenize import word_tokenize\n",
    "\n",
    "# Load NLTK stopwords\n",
    "stop_words = set(stopwords.words('english'))\n",
    "\n",
    "# Preprocess text\n",
    "def preprocess_text(text):\n",
    "    if isinstance(text, str):  # Check if the value is a string\n",
    "        text = text.lower()\n",
    "        text = re.sub(r'[^\\w\\s]', '', text)  # Remove punctuation\n",
    "        tokens = word_tokenize(text)\n",
    "        tokens = [token for token in tokens if token not in stop_words]\n",
    "        return tokens\n",
    "    return []\n",
    "\n",
    "company_df['Processed_Description'] = company_df['company_description'].apply(preprocess_text)\n",
    "industry_df['Processed_Tags'] = industry_df['Tags'].apply(preprocess_text)\n"
   ]
  },
  {
   "cell_type": "code",
   "execution_count": 8,
   "metadata": {},
   "outputs": [],
   "source": [
    "from sklearn.metrics.pairwise import cosine_similarity\n",
    "\n",
    "def calculate_similarity(description_tokens, tag_tokens):\n",
    "    combined_tokens = list(set(description_tokens + tag_tokens))\n",
    "    description_vector = [1 if token in description_tokens else 0 for token in combined_tokens]\n",
    "    tag_vector = [1 if token in tag_tokens else 0 for token in combined_tokens]\n",
    "    similarity = cosine_similarity([description_vector], [tag_vector])[0][0]\n",
    "    return similarity\n",
    "\n",
    "# Calculate similarity for each company and industry segment\n",
    "similarities = []\n",
    "for index, row in company_df.iterrows():\n",
    "    description_tokens = row['Processed_Description']\n",
    "    for _, ind_row in industry_df.iterrows():\n",
    "        tag_tokens = ind_row['Processed_Tags']\n",
    "        similarity = calculate_similarity(description_tokens, tag_tokens)\n",
    "        similarities.append((row['company_name'], ind_row['Industry segment'], similarity))\n"
   ]
  },
  {
   "cell_type": "code",
   "execution_count": 9,
   "metadata": {},
   "outputs": [],
   "source": [
    "from collections import defaultdict\n",
    "\n",
    "# Store best matches\n",
    "best_matches = defaultdict(lambda: ('', 0))  # Company name -> (Industry Segment, Max Similarity)\n",
    "\n",
    "# Find best matches\n",
    "for company, segment, similarity in similarities:\n",
    "    if similarity > best_matches[company][1]:\n",
    "        best_matches[company] = (segment, similarity)\n"
   ]
  },
  {
   "cell_type": "code",
   "execution_count": 10,
   "metadata": {},
   "outputs": [],
   "source": [
    "output_data = [(company, segment) for company, (segment, _) in best_matches.items()]\n",
    "output_df = pd.DataFrame(output_data, columns=['Company Name', 'Best Matched Segment'])\n",
    "output_df.to_csv('Output.csv', index=False)"
   ]
  },
  {
   "cell_type": "code",
   "execution_count": null,
   "metadata": {},
   "outputs": [],
   "source": []
  }
 ],
 "metadata": {
  "kernelspec": {
   "display_name": "base",
   "language": "python",
   "name": "python3"
  },
  "language_info": {
   "codemirror_mode": {
    "name": "ipython",
    "version": 3
   },
   "file_extension": ".py",
   "mimetype": "text/x-python",
   "name": "python",
   "nbconvert_exporter": "python",
   "pygments_lexer": "ipython3",
   "version": "3.8.5"
  },
  "orig_nbformat": 4
 },
 "nbformat": 4,
 "nbformat_minor": 2
}
